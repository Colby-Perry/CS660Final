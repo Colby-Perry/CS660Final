{
 "cells": [
  {
   "cell_type": "code",
   "execution_count": null,
   "id": "c94ee5b2",
   "metadata": {},
   "outputs": [],
   "source": [
    "print(\"Hello Wordl!\");"
   ]
  }
 ],
 "metadata": {
  "language_info": {
   "name": "python"
  }
 },
 "nbformat": 4,
 "nbformat_minor": 5
}
