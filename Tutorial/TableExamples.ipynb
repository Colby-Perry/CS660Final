{
 "cells": [
  {
   "cell_type": "code",
   "execution_count": 1,
   "id": "f421af51",
   "metadata": {},
   "outputs": [
    {
     "data": {
      "image/svg+xml": [
       "<svg xmlns=\"http://www.w3.org/2000/svg\" width=\"500\" height=\"300\">\n",
       "  <!-- Background -->\n",
       "  <rect width=\"100%\" height=\"100%\" fill=\"lightgrey\"/>\n",
       "\n",
       "  <!-- Axes -->\n",
       "  <line x1=\"50\" y1=\"250\" x2=\"450\" y2=\"250\" stroke=\"black\" stroke-width=\"2\"/>\n",
       "  <line x1=\"50\" y1=\"250\" x2=\"50\" y2=\"50\" stroke=\"black\" stroke-width=\"2\"/>\n",
       "\n",
       "  <!-- Bars -->\n",
       "  <rect x=\"80\" y=\"150\" width=\"50\" height=\"100\" fill=\"blue\" onmouseover=\"showTooltip(evt, 'Value: 50')\" onmouseout=\"hideTooltip()\"/>\n",
       "  <rect x=\"180\" y=\"100\" width=\"50\" height=\"150\" fill=\"green\" onmouseover=\"showTooltip(evt, 'Value: 75')\" onmouseout=\"hideTooltip()\"/>\n",
       "  <rect x=\"280\" y=\"200\" width=\"50\" height=\"50\" fill=\"red\" onmouseover=\"showTooltip(evt, 'Value: 25')\" onmouseout=\"hideTooltip()\"/>\n",
       "\n",
       "  <!-- Labels -->\n",
       "  <text x=\"105\" y=\"270\" font-size=\"14\" text-anchor=\"middle\">Category A</text>\n",
       "  <text x=\"205\" y=\"270\" font-size=\"14\" text-anchor=\"middle\">Category B</text>\n",
       "  <text x=\"305\" y=\"270\" font-size=\"14\" text-anchor=\"middle\">Category C</text>\n",
       "\n",
       "  <!-- Annotations -->\n",
       "  <text x=\"180\" y=\"90\" font-size=\"12\" fill=\"black\">Highest Value</text>\n",
       "  <line x1=\"205\" y1=\"100\" x2=\"205\" y2=\"80\" stroke=\"black\" stroke-width=\"1\"/>\n",
       "\n",
       "  <!-- Tooltip -->\n",
       "  <text id=\"tooltip\" x=\"0\" y=\"0\" visibility=\"hidden\" font-size=\"12\" fill=\"white\" background=\"black\">Tooltip</text>\n",
       "\n",
       "  <!-- Script for Interactivity -->\n",
       "  <script type=\"text/ecmascript\">\n",
       "    function showTooltip(evt, text) {\n",
       "      const tooltip = document.getElementById('tooltip');\n",
       "      tooltip.setAttribute('x', evt.clientX + 10);\n",
       "      tooltip.setAttribute('y', evt.clientY - 10);\n",
       "      tooltip.setAttribute('visibility', 'visible');\n",
       "      tooltip.textContent = text;\n",
       "    }\n",
       "\n",
       "    function hideTooltip() {\n",
       "      const tooltip = document.getElementById('tooltip');\n",
       "      tooltip.setAttribute('visibility', 'hidden');\n",
       "    }\n",
       "  </script>\n",
       "</svg>"
      ],
      "text/plain": [
       "<IPython.core.display.SVG object>"
      ]
     },
     "metadata": {},
     "output_type": "display_data"
    }
   ],
   "source": [
    "%%svg\n",
    "<svg xmlns=\"http://www.w3.org/2000/svg\" width=\"500\" height=\"300\">\n",
    "  <!-- Background -->\n",
    "  <rect width=\"100%\" height=\"100%\" fill=\"lightgrey\" />\n",
    "\n",
    "  <!-- Axes -->\n",
    "  <line x1=\"50\" y1=\"250\" x2=\"450\" y2=\"250\" stroke=\"black\" stroke-width=\"2\" />\n",
    "  <line x1=\"50\" y1=\"250\" x2=\"50\" y2=\"50\" stroke=\"black\" stroke-width=\"2\" />\n",
    "\n",
    "  <!-- Bars -->\n",
    "  <rect x=\"80\" y=\"150\" width=\"50\" height=\"100\" fill=\"blue\" onmouseover=\"showTooltip(evt, 'Value: 50')\" onmouseout=\"hideTooltip()\" />\n",
    "  <rect x=\"180\" y=\"100\" width=\"50\" height=\"150\" fill=\"green\" onmouseover=\"showTooltip(evt, 'Value: 75')\" onmouseout=\"hideTooltip()\" />\n",
    "  <rect x=\"280\" y=\"200\" width=\"50\" height=\"50\" fill=\"red\" onmouseover=\"showTooltip(evt, 'Value: 25')\" onmouseout=\"hideTooltip()\" />\n",
    "\n",
    "  <!-- Labels -->\n",
    "  <text x=\"105\" y=\"270\" font-size=\"14\" text-anchor=\"middle\">Category A</text>\n",
    "  <text x=\"205\" y=\"270\" font-size=\"14\" text-anchor=\"middle\">Category B</text>\n",
    "  <text x=\"305\" y=\"270\" font-size=\"14\" text-anchor=\"middle\">Category C</text>\n",
    "\n",
    "  <!-- Annotations -->\n",
    "  <text x=\"180\" y=\"90\" font-size=\"12\" fill=\"black\">Highest Value</text>\n",
    "  <line x1=\"205\" y1=\"100\" x2=\"205\" y2=\"80\" stroke=\"black\" stroke-width=\"1\" />\n",
    "\n",
    "  <!-- Tooltip -->\n",
    "  <text id=\"tooltip\" x=\"0\" y=\"0\" visibility=\"hidden\" font-size=\"12\" fill=\"white\" background=\"black\">Tooltip</text>\n",
    "\n",
    "  <!-- Script for Interactivity -->\n",
    "  <script type=\"text/ecmascript\">\n",
    "    function showTooltip(evt, text) {\n",
    "      const tooltip = document.getElementById('tooltip');\n",
    "      tooltip.setAttribute('x', evt.clientX + 10);\n",
    "      tooltip.setAttribute('y', evt.clientY - 10);\n",
    "      tooltip.setAttribute('visibility', 'visible');\n",
    "      tooltip.textContent = text;\n",
    "    }\n",
    "\n",
    "    function hideTooltip() {\n",
    "      const tooltip = document.getElementById('tooltip');\n",
    "      tooltip.setAttribute('visibility', 'hidden');\n",
    "    }\n",
    "  </script>\n",
    "</svg>"
   ]
  },
  {
   "cell_type": "code",
   "execution_count": null,
   "id": "52547a06",
   "metadata": {},
   "outputs": [],
   "source": [
    "%matplotlib inline\n",
    "import numpy as np\n",
    "import matplotlib.pyplot as plt\n",
    "\n",
    "X = np.array([0,1,2,3,4])\n",
    "Y = np.array([3,5,4,6,7])\n",
    "plt.scatter(X, Y)"
   ]
  }
 ],
 "metadata": {
  "kernelspec": {
   "display_name": "Python 3",
   "language": "python",
   "name": "python3"
  },
  "language_info": {
   "codemirror_mode": {
    "name": "ipython",
    "version": 3
   },
   "file_extension": ".py",
   "mimetype": "text/x-python",
   "name": "python",
   "nbconvert_exporter": "python",
   "pygments_lexer": "ipython3",
   "version": "3.12.6"
  }
 },
 "nbformat": 4,
 "nbformat_minor": 5
}
