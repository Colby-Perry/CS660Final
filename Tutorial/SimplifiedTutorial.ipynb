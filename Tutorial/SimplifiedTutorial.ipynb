{
 "cells": [
  {
   "cell_type": "markdown",
   "id": "7453cccb",
   "metadata": {},
   "source": [
    "## Markdown Things I Forget:\n",
    "Table:\n",
    "| Name      | Age | Gender |\n",
    "|-----------|-----|--------|\n",
    "| John      | 30  | Male   |\n",
    "| Jane      | 25  | Female |\n",
    "| Sam       | 40  | Male   |\n",
    "\n",
    "[Hyper Link](https://www.youtube.com/watch?v=dQw4w9WgXcQ)\n",
    "\n",
    "Listing Images:\n",
    "\n",
    "![Mango](https://static.wikia.nocookie.net/slimerancher/images/c/c9/Mint_mango.png/revision/latest/thumbnail/width/360/height/450?cb=20170406164559)\n",
    "\n",
    " \n",
    "## Magic Commands:\n",
    "[Magic Commands Documentation](https://ipython.readthedocs.io/en/stable/interactive/magics.html)"
   ]
  },
  {
   "cell_type": "code",
   "execution_count": 8,
   "id": "c171ed4b",
   "metadata": {},
   "outputs": [
    {
     "name": "stdout",
     "output_type": "stream",
     "text": [
      "CPU times: total: 15.6 ms\n",
      "Wall time: 14.1 ms\n"
     ]
    },
    {
     "data": {
      "text/plain": [
       "499999500000"
      ]
     },
     "execution_count": 8,
     "metadata": {},
     "output_type": "execute_result"
    }
   ],
   "source": [
    "%time sum(range(1000000)) # Measures how long a single line takes to run"
   ]
  },
  {
   "cell_type": "code",
   "execution_count": 11,
   "id": "3aabe5cf",
   "metadata": {},
   "outputs": [
    {
     "name": "stdout",
     "output_type": "stream",
     "text": [
      "11.8 μs ± 56.5 ns per loop (mean ± std. dev. of 7 runs, 100,000 loops each)\n"
     ]
    }
   ],
   "source": [
    "%timeit sum(range(1000)) # Measures how long a single line takes to run on average over MANY tries"
   ]
  },
  {
   "cell_type": "code",
   "execution_count": 17,
   "id": "c27e818e",
   "metadata": {},
   "outputs": [
    {
     "data": {
      "text/plain": [
       "'d:\\\\CS-660-Final-Project'"
      ]
     },
     "execution_count": 17,
     "metadata": {},
     "output_type": "execute_result"
    }
   ],
   "source": [
    "%pwd # Prints working directory"
   ]
  },
  {
   "cell_type": "code",
   "execution_count": null,
   "id": "d69a798c",
   "metadata": {},
   "outputs": [],
   "source": [
    "%ls # Lists contents in current directory along with drive name and serial number"
   ]
  },
  {
   "cell_type": "code",
   "execution_count": null,
   "id": "77a74735",
   "metadata": {},
   "outputs": [],
   "source": [
    "%cd .. # Changes Directory\n",
    "%ls"
   ]
  },
  {
   "cell_type": "code",
   "execution_count": 24,
   "id": "a48808d1",
   "metadata": {},
   "outputs": [
    {
     "name": "stdout",
     "output_type": "stream",
     "text": [
      "b\t c\t \n"
     ]
    }
   ],
   "source": [
    "a = 5\n",
    "b = \"hello\"\n",
    "c = True\n",
    "%who str bool  # Lists variables that match type(s) given"
   ]
  },
  {
   "cell_type": "code",
   "execution_count": 25,
   "id": "dcb665e8",
   "metadata": {},
   "outputs": [
    {
     "name": "stdout",
     "output_type": "stream",
     "text": [
      "Variable   Type    Data/Info\n",
      "----------------------------\n",
      "b          str     hello\n",
      "c          bool    True\n"
     ]
    }
   ],
   "source": [
    "a = 5\n",
    "b = \"hello\"\n",
    "c = True\n",
    "%whos str bool  # Lists variables with extra info"
   ]
  },
  {
   "cell_type": "code",
   "execution_count": null,
   "id": "d10f2201",
   "metadata": {},
   "outputs": [
    {
     "data": {
      "text/plain": [
       "['a', 'b', 'c']"
      ]
     },
     "execution_count": 33,
     "metadata": {},
     "output_type": "execute_result"
    }
   ],
   "source": [
    "a = 5\n",
    "b = \"hello\"\n",
    "c = True\n",
    "%who_ls\n",
    "# Lists each variable in an array (Doesn't work with a comment after)"
   ]
  },
  {
   "cell_type": "code",
   "execution_count": 1,
   "id": "66c9b7bb",
   "metadata": {},
   "outputs": [
    {
     "name": "stdout",
     "output_type": "stream",
     "text": [
      "No variables match your requested type.\n"
     ]
    }
   ],
   "source": [
    "a = 5\n",
    "b = \"hello\"\n",
    "c = True\n",
    "%reset -f\n",
    "# Clears Variables\n",
    "%whos str bool int"
   ]
  },
  {
   "cell_type": "code",
   "execution_count": 3,
   "id": "2b6c4785",
   "metadata": {},
   "outputs": [
    {
     "name": "stdout",
     "output_type": "stream",
     "text": [
      "Hello World\n"
     ]
    }
   ],
   "source": [
    "%run printExample.py"
   ]
  },
  {
   "cell_type": "code",
   "execution_count": null,
   "id": "86d09afc",
   "metadata": {},
   "outputs": [],
   "source": [
    "# Loads a python script\n",
    "%load printExample.py"
   ]
  },
  {
   "cell_type": "code",
   "execution_count": 8,
   "id": "273fa585",
   "metadata": {},
   "outputs": [
    {
     "name": "stdout",
     "output_type": "stream",
     "text": [
      "Stored 'txt' (str)\n"
     ]
    }
   ],
   "source": [
    "# Stores a variable\n",
    "txt = \"Babadee-Boo Badt-Bahm\"\n",
    "%store txt"
   ]
  },
  {
   "cell_type": "code",
   "execution_count": null,
   "id": "929e1a2f",
   "metadata": {},
   "outputs": [
    {
     "name": "stdout",
     "output_type": "stream",
     "text": [
      "Babadee-Boo Badt-Bahm\n"
     ]
    }
   ],
   "source": [
    "# Prints stored variable\n",
    "print(txt)"
   ]
  },
  {
   "cell_type": "code",
   "execution_count": null,
   "id": "1b571530",
   "metadata": {},
   "outputs": [
    {
     "name": "stdout",
     "output_type": "stream",
     "text": [
      "Overwriting out.txt\n"
     ]
    }
   ],
   "source": [
    "%%writefile out.txt\n",
    "# Writes everything below to a file, must be at the top of a block.\n",
    "Artificial ametures arent at all amazing"
   ]
  },
  {
   "cell_type": "code",
   "execution_count": null,
   "id": "6b4629b0",
   "metadata": {},
   "outputs": [],
   "source": [
    "# Magic command to install a Python package from within a Jupyter\n",
    "%pip install wheel"
   ]
  },
  {
   "cell_type": "code",
   "execution_count": 2,
   "id": "3d71cb6e",
   "metadata": {},
   "outputs": [
    {
     "data": {
      "text/html": [
       "\n",
       "<i><b>You can make HTML blocks</i></b>\n"
      ],
      "text/plain": [
       "<IPython.core.display.HTML object>"
      ]
     },
     "metadata": {},
     "output_type": "display_data"
    }
   ],
   "source": [
    "%%html\n",
    "\n",
    "<i><b>You can make HTML blocks</i></b>"
   ]
  },
  {
   "cell_type": "code",
   "execution_count": null,
   "id": "4838f91a",
   "metadata": {},
   "outputs": [],
   "source": [
    "# Display YouTube video in python, example code given by Malik but doesn't seem to work.\n",
    "\n",
    "from IPython.display import YouTubeVideo\n",
    "Video = YouTubeVideo(\"xcnUgm2ZfNI\", height=200, width=800, end=10)\n",
    "display(Video)"
   ]
  },
  {
   "cell_type": "code",
   "execution_count": null,
   "id": "3356c9ee",
   "metadata": {},
   "outputs": [],
   "source": [
    "# Example also given by Malik, seems to work better but I always get a playback error. Probably an issue with VS code\n",
    "%%HTML\n",
    "<iframe width=\"560\" height=\"300\" src=\"https://www.youtube.com/embed/sBbLFv-SmOM?rel=0&amp;controls=0&amp;showinfo=0\" frameborder=\"0\" allowfullscreen></iframe>"
   ]
  },
  {
   "cell_type": "markdown",
   "id": "125f8bc0",
   "metadata": {},
   "source": [
    "We can make SVG blocks, but can't use python comments.\n",
    "[SVG Cheat Sheet](https://www.cheat-sheets.org/own/svg/index.xhtml)"
   ]
  },
  {
   "cell_type": "code",
   "execution_count": 14,
   "id": "86bb6b67",
   "metadata": {},
   "outputs": [
    {
     "data": {
      "image/svg+xml": [
       "<svg xmlns=\"http://www.w3.org/2000/svg\" width=\"100\" height=\"100\">\n",
       "  <circle cx=\"50\" cy=\"50\" r=\"40\" fill=\"red\"/>\n",
       "</svg>"
      ],
      "text/plain": [
       "<IPython.core.display.SVG object>"
      ]
     },
     "metadata": {},
     "output_type": "display_data"
    }
   ],
   "source": [
    "%%svg\n",
    "<svg width=\"100\" height=\"100\" xmlns=\"http://www.w3.org/2000/svg\">\n",
    "  <circle cx=\"50\" cy=\"50\" r=\"40\" fill=\"red\" />\n",
    "</svg>"
   ]
  }
 ],
 "metadata": {
  "kernelspec": {
   "display_name": "Python 3",
   "language": "python",
   "name": "python3"
  },
  "language_info": {
   "codemirror_mode": {
    "name": "ipython",
    "version": 3
   },
   "file_extension": ".py",
   "mimetype": "text/x-python",
   "name": "python",
   "nbconvert_exporter": "python",
   "pygments_lexer": "ipython3",
   "version": "3.12.6"
  }
 },
 "nbformat": 4,
 "nbformat_minor": 5
}
