{
 "cells": [
  {
   "cell_type": "markdown",
   "metadata": {
    "slideshow": {
     "slide_type": "slide"
    }
   },
   "source": [
    "# Jupyter Notebooks (JNB) Magic Commands\n",
    "\n",
    "## Help Menu\n",
    "1.\tPress \"H\" key to access the help menu.\n",
    "2.\tYou will find the Keyboard shortcuts of the Jupyter Notebook for both Edit and Command mode.\n",
    "3.\tYou should look at it once a week, at least, to memorize them.\n",
    "4.\tIf you are a fan of using the command-line, you will enjoy using JNB magic commands as the command-line-like syntax and nearly run and provide the functionality in the same manner.\n"
   ]
  },
  {
   "cell_type": "markdown",
   "metadata": {},
   "source": [
    "**Malik**\n",
    "\n",
    "\n",
    "_Haroon"
   ]
  },
  {
   "cell_type": "markdown",
   "metadata": {
    "slideshow": {
     "slide_type": "slide"
    }
   },
   "source": [
    "### Some common Markdown syntax elements that can be used in Markdown cells:\n",
    "\n",
    "**Headings:** Use # to create headings. The number of # characters indicates the level of the heading (e.g., # Heading 1, ## Heading 2, ### Heading 3, etc.).\n",
    "\n",
    "**Text Formatting:** Use * or _ for italics, ** or __ for bold, and ~~ for strikethrough. For example, *italic*, **bold**, and ~~strikethrough~~.\n",
    "\n",
    "**Lists:** Use *, -, or + for unordered lists and 1., 2., etc., for ordered lists.\n",
    "\n",
    "**Links:** Use [link text](URL) to create a hyperlink.\n",
    "\n",
    "**Images:** Use ![alt text](image URL) to insert an image.\n",
    "\n",
    "**Blockquotes:** Use > for blockquotes.\n",
    "\n",
    "**Code Blocks:** Use triple backticks (```) to create code blocks.\n",
    "\n",
    "**Horizontal Rules:** Use --- or ___ to create horizontal rules.\n",
    "\n",
    "**Tables:** Use | to separate columns and - to separate the header from the content.\n",
    "\n",
    "**Math Equations:** Use LaTeX syntax to write mathematical equations. Enclose inline equations with $ symbols and display equations with $$ symbols.\n",
    "\n",
    "**Line Breaks:** Use two spaces at the end of a line to create a line break.\n",
    "\n",
    "**Escaping Characters:** Use the backslash (\\) to escape Markdown syntax characters.\n",
    "\n",
    "**To render Markdown cells** , simply run the cell by pressing Shift + Enter. The Markdown "
   ]
  },
  {
   "cell_type": "code",
   "execution_count": null,
   "metadata": {},
   "outputs": [],
   "source": []
  },
  {
   "cell_type": "markdown",
   "metadata": {
    "slideshow": {
     "slide_type": "slide"
    }
   },
   "source": [
    "# Example of creating List (Unordered)\n",
    "- Item 1: This is the first item\n",
    "- Item 2\n",
    "- Item 3\n",
    "  - Subitem 1\n",
    "  - Subitem 2\n",
    "      - haroon\n",
    "    - Subsubitem 1\n",
    "- Item 3\n"
   ]
  },
  {
   "cell_type": "markdown",
   "metadata": {
    "slideshow": {
     "slide_type": "slide"
    }
   },
   "source": [
    "### Example of creating List (Ordered)\n",
    "1. First item\n",
    "2. Second item\n",
    "   1. Subitem 1\n",
    "   2. Subitem 2\n",
    "      1. Subsubitem 1\n",
    "3. Third item\n",
    "4. Forth Item\n"
   ]
  },
  {
   "cell_type": "markdown",
   "metadata": {
    "slideshow": {
     "slide_type": "slide"
    }
   },
   "source": [
    "### Nested List:\n",
    "- Item 1\n",
    "  1. Subitem 1\n",
    "  2. Subitem 2\n",
    "     - Subsubitem 1\n",
    "     - Subsubitem 2\n",
    "     \n",
    "     \n",
    "     \n",
    "         . haroon\n",
    "         . Haroon\n",
    "- Item 2\n",
    "  - Subitem 1\n",
    "  - Subitem 2\n"
   ]
  },
  {
   "cell_type": "markdown",
   "metadata": {
    "slideshow": {
     "slide_type": "slide"
    }
   },
   "source": [
    "### List with Images\n",
    "- ![Python logo](https://www.python.org/static/img/python-logo.png)\n",
    "- ![Jupyter logo](https://jupyter.org/assets/main-logo.svg)\n"
   ]
  },
  {
   "cell_type": "markdown",
   "metadata": {
    "slideshow": {
     "slide_type": "slide"
    }
   },
   "source": [
    "### List with Links\n",
    "- [Google](https://www.google.com)\n",
    "- [GitHub](https://github.com)\n"
   ]
  },
  {
   "cell_type": "markdown",
   "metadata": {
    "slideshow": {
     "slide_type": "slide"
    }
   },
   "source": [
    "### List with Block Code\n",
    "- `print(\"Hello, world!\")`\n",
    "- ```python\n",
    "  for i in range(10):\n",
    "      print(i)\n"
   ]
  },
  {
   "cell_type": "markdown",
   "metadata": {
    "slideshow": {
     "slide_type": "slide"
    }
   },
   "source": [
    "### Markdown for creating Table:\n",
    "| Name      | Age | Gender |\n",
    "|-----------|-----|--------|\n",
    "| John      | 30  | Male   |\n",
    "| Jane      | 25  | Female |\n",
    "| Sam       | 40  | Male   |\n"
   ]
  },
  {
   "cell_type": "markdown",
   "metadata": {
    "slideshow": {
     "slide_type": "slide"
    }
   },
   "source": [
    "| **Name**   | **Age** | **Gender** |\n",
    "|------------|---------|------------|\n",
    "| John       | 30      | Male       |\n",
    "| Jane       | 25      | Female     |\n",
    "| Sam        | 40      | Male       |\n",
    "\n",
    "\n",
    "| Name      | Age | Gender |\n",
    "|-----------|-----|--------|\n",
    "| John      | 30  | <span style=\"background-color: #FFFF00\">Male</span>   |\n",
    "| Jane      | 25  | <span style=\"background-color: #FF0000\">Female</span> |\n",
    "| Sam       | 40  | <span style=\"background-color: #00FF00\">Male</span>   |\n",
    "\n",
    "\n",
    "| [Introduction](#introduction) |\n",
    "| [Methodology](#methodology)   |\n",
    "| [Results](#results)           |\n",
    "| [Conclusion](#conclusion)     |\n"
   ]
  },
  {
   "cell_type": "markdown",
   "metadata": {
    "slideshow": {
     "slide_type": "slide"
    }
   },
   "source": [
    "## What is a Magic Command?\n",
    "In Jupyter Notebook, a \"magic command\" is a command that allows you to perform various tasks related to the notebook environment itself, rather than executing Python code. \n",
    "\n",
    "It will start with either a single % for line magics or %% for cell magics.\n"
   ]
  },
  {
   "cell_type": "markdown",
   "metadata": {},
   "source": [
    "## Types of Magic Commands\n",
    "There are two tupes of magic commands:\n",
    "- Line magics\n",
    "- Cell magics\n",
    "\n",
    "**Line Magics** \n",
    "Line magics are commands that apply to a single line in the cell. They are similar to command line calls. They start with % character [aka single modulus]. Rest of the line is its argument passed without parentheses or quotes. Line magics can be used as an expression and their return value can be assigned to a variable.\n",
    "\n",
    "**Cell Magics**\n",
    "They have %% character [aka double modulus] prefix. Unlike line magic functions, they can operate on multiple lines below their call. They can in-fact make arbitrary modifications to the input they receive, which need not even be a valid Python code at all. They receive the whole block as a single string.\n"
   ]
  },
  {
   "cell_type": "code",
   "execution_count": 2,
   "metadata": {},
   "outputs": [
    {
     "name": "stdout",
     "output_type": "stream",
     "text": [
      "14.9 µs ± 242 ns per loop (mean ± std. dev. of 7 runs, 100,000 loops each)\n"
     ]
    },
    {
     "data": {
      "text/plain": [
       "'In this example, %timeit is the line magic command, and sum(range(1000)) is the code we want to \\nmeasure the execution time for. When you run this cell, Jupyter Notebook will execute the sum(range(1000)) code and measure the time it takes to complete. \\nIt will then print out the average time taken to execute the code over a number of iterations.'"
      ]
     },
     "execution_count": 2,
     "metadata": {},
     "output_type": "execute_result"
    }
   ],
   "source": [
    "# EXAMPLE OF LINE MAGIC COMMAND\n",
    "%timeit sum(range(1000))\n",
    "'''In this example, %timeit is the line magic command, and sum(range(1000)) is the code we want to \n",
    "measure the execution time for. When you run this cell, Jupyter Notebook will execute the sum(range(1000)) code and measure the time it takes to complete. \n",
    "It will then print out the average time taken to execute the code over a number of iterations.'''"
   ]
  },
  {
   "cell_type": "code",
   "execution_count": 3,
   "metadata": {},
   "outputs": [
    {
     "name": "stdout",
     "output_type": "stream",
     "text": [
      "Overwriting C://DEL/example.txt\n"
     ]
    }
   ],
   "source": [
    "%%writefile C://DEL/example.txt\n",
    "# This is an example file written to the C directory using the %%writefile magic command.\n",
    "# ok so far so good"
   ]
  },
  {
   "cell_type": "code",
   "execution_count": 4,
   "metadata": {
    "scrolled": false
   },
   "outputs": [
    {
     "data": {
      "application/json": {
       "cell": {
        "!": "OSMagics",
        "HTML": "Other",
        "SVG": "Other",
        "bash": "Other",
        "capture": "ExecutionMagics",
        "cmd": "Other",
        "debug": "ExecutionMagics",
        "file": "Other",
        "html": "DisplayMagics",
        "javascript": "DisplayMagics",
        "js": "DisplayMagics",
        "latex": "DisplayMagics",
        "markdown": "DisplayMagics",
        "perl": "Other",
        "prun": "ExecutionMagics",
        "pypy": "Other",
        "python": "Other",
        "python2": "Other",
        "python3": "Other",
        "ruby": "Other",
        "script": "ScriptMagics",
        "sh": "Other",
        "svg": "DisplayMagics",
        "sx": "OSMagics",
        "system": "OSMagics",
        "time": "ExecutionMagics",
        "timeit": "ExecutionMagics",
        "writefile": "OSMagics"
       },
       "line": {
        "alias": "OSMagics",
        "alias_magic": "BasicMagics",
        "autoawait": "AsyncMagics",
        "autocall": "AutoMagics",
        "automagic": "AutoMagics",
        "autosave": "KernelMagics",
        "bookmark": "OSMagics",
        "cd": "OSMagics",
        "clear": "KernelMagics",
        "cls": "KernelMagics",
        "colors": "BasicMagics",
        "conda": "PackagingMagics",
        "config": "ConfigMagics",
        "connect_info": "KernelMagics",
        "copy": "Other",
        "ddir": "Other",
        "debug": "ExecutionMagics",
        "dhist": "OSMagics",
        "dirs": "OSMagics",
        "doctest_mode": "BasicMagics",
        "echo": "Other",
        "ed": "Other",
        "edit": "KernelMagics",
        "env": "OSMagics",
        "gui": "BasicMagics",
        "hist": "Other",
        "history": "HistoryMagics",
        "killbgscripts": "ScriptMagics",
        "ldir": "Other",
        "less": "KernelMagics",
        "load": "CodeMagics",
        "load_ext": "ExtensionMagics",
        "loadpy": "CodeMagics",
        "logoff": "LoggingMagics",
        "logon": "LoggingMagics",
        "logstart": "LoggingMagics",
        "logstate": "LoggingMagics",
        "logstop": "LoggingMagics",
        "ls": "Other",
        "lsmagic": "BasicMagics",
        "macro": "ExecutionMagics",
        "magic": "BasicMagics",
        "matplotlib": "PylabMagics",
        "mkdir": "Other",
        "more": "KernelMagics",
        "notebook": "BasicMagics",
        "page": "BasicMagics",
        "pastebin": "CodeMagics",
        "pdb": "ExecutionMagics",
        "pdef": "NamespaceMagics",
        "pdoc": "NamespaceMagics",
        "pfile": "NamespaceMagics",
        "pinfo": "NamespaceMagics",
        "pinfo2": "NamespaceMagics",
        "pip": "PackagingMagics",
        "popd": "OSMagics",
        "pprint": "BasicMagics",
        "precision": "BasicMagics",
        "prun": "ExecutionMagics",
        "psearch": "NamespaceMagics",
        "psource": "NamespaceMagics",
        "pushd": "OSMagics",
        "pwd": "OSMagics",
        "pycat": "OSMagics",
        "pylab": "PylabMagics",
        "qtconsole": "KernelMagics",
        "quickref": "BasicMagics",
        "recall": "HistoryMagics",
        "rehashx": "OSMagics",
        "reload_ext": "ExtensionMagics",
        "ren": "Other",
        "rep": "Other",
        "rerun": "HistoryMagics",
        "reset": "NamespaceMagics",
        "reset_selective": "NamespaceMagics",
        "rmdir": "Other",
        "run": "ExecutionMagics",
        "save": "CodeMagics",
        "sc": "OSMagics",
        "set_env": "OSMagics",
        "store": "StoreMagics",
        "sx": "OSMagics",
        "system": "OSMagics",
        "tb": "ExecutionMagics",
        "time": "ExecutionMagics",
        "timeit": "ExecutionMagics",
        "unalias": "OSMagics",
        "unload_ext": "ExtensionMagics",
        "who": "NamespaceMagics",
        "who_ls": "NamespaceMagics",
        "whos": "NamespaceMagics",
        "xdel": "NamespaceMagics",
        "xmode": "BasicMagics"
       }
      },
      "text/plain": [
       "Available line magics:\n",
       "%alias  %alias_magic  %autoawait  %autocall  %automagic  %autosave  %bookmark  %cd  %clear  %cls  %colors  %conda  %config  %connect_info  %copy  %ddir  %debug  %dhist  %dirs  %doctest_mode  %echo  %ed  %edit  %env  %gui  %hist  %history  %killbgscripts  %ldir  %less  %load  %load_ext  %loadpy  %logoff  %logon  %logstart  %logstate  %logstop  %ls  %lsmagic  %macro  %magic  %matplotlib  %mkdir  %more  %notebook  %page  %pastebin  %pdb  %pdef  %pdoc  %pfile  %pinfo  %pinfo2  %pip  %popd  %pprint  %precision  %prun  %psearch  %psource  %pushd  %pwd  %pycat  %pylab  %qtconsole  %quickref  %recall  %rehashx  %reload_ext  %ren  %rep  %rerun  %reset  %reset_selective  %rmdir  %run  %save  %sc  %set_env  %store  %sx  %system  %tb  %time  %timeit  %unalias  %unload_ext  %who  %who_ls  %whos  %xdel  %xmode\n",
       "\n",
       "Available cell magics:\n",
       "%%!  %%HTML  %%SVG  %%bash  %%capture  %%cmd  %%debug  %%file  %%html  %%javascript  %%js  %%latex  %%markdown  %%perl  %%prun  %%pypy  %%python  %%python2  %%python3  %%ruby  %%script  %%sh  %%svg  %%sx  %%system  %%time  %%timeit  %%writefile\n",
       "\n",
       "Automagic is ON, % prefix IS NOT needed for line magics."
      ]
     },
     "execution_count": 4,
     "metadata": {},
     "output_type": "execute_result"
    }
   ],
   "source": [
    "#What is the magic command to list all available magic commands in Jupyter Notebook?\n",
    "%lsmagic"
   ]
  },
  {
   "cell_type": "code",
   "execution_count": 5,
   "metadata": {
    "scrolled": false
   },
   "outputs": [
    {
     "name": "stdout",
     "output_type": "stream",
     "text": [
      " Volume in drive C is Windows\n",
      " Volume Serial Number is 2A17-4D9A\n",
      "\n",
      " Directory of c:\\temp\n",
      "\n",
      "12/27/2024  11:53 PM    <DIR>          .\n",
      "12/27/2024  11:53 PM    <DIR>          ..\n",
      "04/18/2024  04:30 PM                19 Ans_1.txt\n",
      "04/18/2024  04:31 PM                43 Ans_2.txt\n",
      "04/18/2024  03:38 PM                54 count.txt\n",
      "04/18/2024  03:15 PM                21 FileName_1.txt\n",
      "04/18/2024  04:23 PM                45 first_write.txt\n",
      "12/02/2023  05:48 AM            13,649 HW-2.docx\n",
      "04/18/2024  03:16 PM                26 Integer_File.txt\n",
      "04/18/2024  03:50 PM                92 itemlist.txt\n",
      "04/15/2023  07:59 PM               192 itemlist_out.txt\n",
      "04/18/2024  03:51 PM               192 itemlist1.txt\n",
      "12/14/2024  03:44 AM               461 meaningful_data.csv\n",
      "04/02/2025  03:54 PM             5,803 my_script.py\n",
      "11/01/2023  08:47 PM            12,219 newfigure.png\n",
      "04/04/2024  04:58 PM               530 nurseryrhume.txt\n",
      "12/26/2024  03:52 PM            69,854 plot1.png\n",
      "04/02/2025  03:52 PM                45 test02.py\n",
      "04/02/2025  03:51 PM                87 test03.py\n",
      "04/25/2024  05:46 PM         1,843,485 Test2_CPU_Load_M01SV_03_120_Minutes_Perflog.csv\n",
      "12/15/2024  04:30 AM             1,471 untitled-1.py\n",
      "12/15/2024  04:30 AM             1,886 untitled-2.py\n",
      "12/14/2024  04:02 AM             3,794 untitled-3.py\n",
      "12/27/2024  11:53 PM         1,562,993 world_countires.json\n",
      "              22 File(s)      3,516,961 bytes\n",
      "               2 Dir(s)  679,978,921,984 bytes free\n"
     ]
    }
   ],
   "source": [
    "#magic command to display the contents of a directory on your file system\n",
    "%ls c:\\temp"
   ]
  },
  {
   "cell_type": "code",
   "execution_count": 6,
   "metadata": {
    "slideshow": {
     "slide_type": "slide"
    }
   },
   "outputs": [],
   "source": [
    "%quickref\n",
    "#list of common commands and their descriptions."
   ]
  },
  {
   "cell_type": "code",
   "execution_count": 7,
   "metadata": {
    "slideshow": {
     "slide_type": "slide"
    }
   },
   "outputs": [
    {
     "data": {
      "text/plain": [
       "'C:\\\\Users\\\\haroo\\\\AppData\\\\Local\\\\Programs\\\\Python\\\\Python310\\\\Scripts\\\\CS_511_SP_23'"
      ]
     },
     "execution_count": 7,
     "metadata": {},
     "output_type": "execute_result"
    }
   ],
   "source": [
    " %pwd\n",
    "#  It stands for \"print working directory.\""
   ]
  },
  {
   "cell_type": "code",
   "execution_count": 8,
   "metadata": {
    "scrolled": true,
    "slideshow": {
     "slide_type": "slide"
    }
   },
   "outputs": [
    {
     "name": "stdout",
     "output_type": "stream",
     "text": [
      "Requirement already satisfied: wheel in c:\\users\\haroo\\appdata\\local\\programs\\python\\python310\\lib\\site-packages (0.40.0)\n"
     ]
    },
    {
     "name": "stderr",
     "output_type": "stream",
     "text": [
      "WARNING: There was an error checking the latest version of pip.\n"
     ]
    }
   ],
   "source": [
    "#magic command to install a Python package from within a Jupyter\n",
    "!pip install wheel"
   ]
  },
  {
   "cell_type": "code",
   "execution_count": 11,
   "metadata": {
    "slideshow": {
     "slide_type": "slide"
    }
   },
   "outputs": [
    {
     "name": "stdout",
     "output_type": "stream",
     "text": [
      "### Example of creating List (Ordered)\n",
      "1. First item\n",
      "2. Second item\n",
      "   1. Subitem 1\n",
      "   2. Subitem 2\n",
      "      1. Subsubitem 1\n",
      "3. Third item\n",
      "4. Forth Item\n",
      "# EXAMPLE OF LINE MAGIC COMMAND\n",
      "%timeit sum(range(1000))\n",
      "'''In this example, %timeit is the line magic command, and sum(range(1000)) is the code we want to \n",
      "measure the execution time for. When you run this cell, Jupyter Notebook will execute the sum(range(1000)) code and measure the time it takes to complete. \n",
      "It will then print out the average time taken to execute the code over a number of iterations.'''\n",
      "%%writefile C://DEL/example.txt\n",
      "# This is an example file written to the C directory using the %%writefile magic command.\n",
      "# ok so far so good\n",
      "#What is the magic command to list all available magic commands in Jupyter Notebook?\n",
      "%lsmagic\n",
      "#magic command to display the contents of a directory on your file system\n",
      "%ls c:\\temp\n",
      "%quickref\n",
      "#list of common commands and their descriptions.\n",
      " %pwd\n",
      "#  It stands for \"print working directory.\"\n",
      "#magic command to install a Python package from within a Jupyter\n",
      "!pip install wheel\n",
      "%history\n",
      "%history\n",
      "%history\n"
     ]
    }
   ],
   "source": [
    "%history "
   ]
  },
  {
   "cell_type": "code",
   "execution_count": 12,
   "metadata": {
    "slideshow": {
     "slide_type": "slide"
    }
   },
   "outputs": [
    {
     "data": {
      "text/html": [
       "\n",
       "<i><b>Italic jhvgvvvvvvvvvvvvvvJNB</i></b>\n"
      ],
      "text/plain": [
       "<IPython.core.display.HTML object>"
      ]
     },
     "metadata": {},
     "output_type": "display_data"
    }
   ],
   "source": [
    "%%html\n",
    "\n",
    "<i><b>Italic jhvgvvvvvvvvvvvvvvJNB</i></b>"
   ]
  },
  {
   "cell_type": "code",
   "execution_count": 13,
   "metadata": {
    "scrolled": true,
    "slideshow": {
     "slide_type": "slide"
    }
   },
   "outputs": [
    {
     "data": {
      "text/html": [
       "<i>some bold text</i>"
      ],
      "text/plain": [
       "<IPython.core.display.HTML object>"
      ]
     },
     "metadata": {},
     "output_type": "display_data"
    }
   ],
   "source": [
    "from IPython.display import HTML, display\n",
    "display(HTML(\"<i>some bold text</i>\"))"
   ]
  },
  {
   "cell_type": "code",
   "execution_count": 15,
   "metadata": {
    "scrolled": true,
    "slideshow": {
     "slide_type": "slide"
    }
   },
   "outputs": [
    {
     "data": {
      "text/html": [
       "<iframe src=\"http://www.pdf995.com/samples/pdf.pdf\" width=60%></iframe>\n"
      ],
      "text/plain": [
       "<IPython.core.display.HTML object>"
      ]
     },
     "metadata": {},
     "output_type": "display_data"
    }
   ],
   "source": [
    "%%html\n",
    "<iframe src=\"http://www.pdf995.com/samples/pdf.pdf\" width=60%></iframe>"
   ]
  },
  {
   "cell_type": "code",
   "execution_count": 16,
   "metadata": {
    "scrolled": true,
    "slideshow": {
     "slide_type": "slide"
    }
   },
   "outputs": [
    {
     "data": {
      "text/html": [
       "<iframe src=\"https://robjhyndman.com/tsdldata/ecology1/hopedale.dat\" width=100% height=\"2000\"</iframe>\n"
      ],
      "text/plain": [
       "<IPython.core.display.HTML object>"
      ]
     },
     "metadata": {},
     "output_type": "display_data"
    }
   ],
   "source": [
    "%%html\n",
    "<iframe src=\"https://robjhyndman.com/tsdldata/ecology1/hopedale.dat\" width=100% height=\"2000\"</iframe>\n"
   ]
  },
  {
   "cell_type": "code",
   "execution_count": 17,
   "metadata": {},
   "outputs": [
    {
     "data": {
      "text/html": [
       "<a href=\"https://robjhyndman.com/tsdldata/ecology1/hopedale.dat\" target=\"_blank\">Open in a new tab</a>\n"
      ],
      "text/plain": [
       "<IPython.core.display.HTML object>"
      ]
     },
     "metadata": {},
     "output_type": "display_data"
    }
   ],
   "source": [
    "%%html\n",
    "<a href=\"https://robjhyndman.com/tsdldata/ecology1/hopedale.dat\" target=\"_blank\">Open in a new tab</a>"
   ]
  },
  {
   "cell_type": "code",
   "execution_count": 21,
   "metadata": {},
   "outputs": [
    {
     "data": {
      "text/html": [
       "<iframe src=\"https://reader.elsevier.com/reader/sd/pii/S187705091731757X?token=6714B91F48AB17453766B8C019FA44255B08B54D3A29A11C955E6B57F7C5A18E35F5B5762ED5E6AA77C832DA6A6DDA96&originRegion=us-east-1&originCreation=20210914164553\" height=100% width=50%> </iframe>\n",
       "<iframe src=\"https://www.sciencedirect.com/science/article/pii/S1877050916317987\" height=100% width=100%> </iframe>\n"
      ],
      "text/plain": [
       "<IPython.core.display.HTML object>"
      ]
     },
     "metadata": {},
     "output_type": "display_data"
    }
   ],
   "source": [
    "%%html\n",
    "<iframe src=\"https://reader.elsevier.com/reader/sd/pii/S187705091731757X?token=6714B91F48AB17453766B8C019FA44255B08B54D3A29A11C955E6B57F7C5A18E35F5B5762ED5E6AA77C832DA6A6DDA96&originRegion=us-east-1&originCreation=20210914164553\" height=100% width=50%> </iframe>\n",
    "<iframe src=\"https://www.sciencedirect.com/science/article/pii/S1877050916317987\" height=100% width=100%> </iframe>\n"
   ]
  },
  {
   "cell_type": "code",
   "execution_count": 22,
   "metadata": {
    "slideshow": {
     "slide_type": "slide"
    }
   },
   "outputs": [
    {
     "data": {
      "image/jpeg": "[encoded data removed]",
      "text/html": [
       "\n",
       "        <iframe\n",
       "            width=\"800\"\n",
       "            height=\"200\"\n",
       "            src=\"https://www.youtube.com/embed/VqhCQZaH4Vs?end=10\"\n",
       "            frameborder=\"0\"\n",
       "            allowfullscreen\n",
       "            \n",
       "        ></iframe>\n",
       "        "
      ],
      "text/plain": [
       "<IPython.lib.display.YouTubeVideo at 0x208643577f0>"
      ]
     },
     "metadata": {},
     "output_type": "display_data"
    }
   ],
   "source": [
    "from IPython.display import YouTubeVideo\n",
    "Video=YouTubeVideo(\"VqhCQZaH4Vs\", height=200, width=800, end=10)\n",
    "display(Video)"
   ]
  },
  {
   "cell_type": "code",
   "execution_count": 23,
   "metadata": {
    "slideshow": {
     "slide_type": "slide"
    }
   },
   "outputs": [
    {
     "data": {
      "text/html": [
       "<iframe width=\"560\" height=\"700\" src=\"https://www.youtube.com/embed/S_f2qV2_U00?rel=0&amp;controls=0&amp;showinfo=0\" frameborder=\"0\" allowfullscreen></iframe>\n"
      ],
      "text/plain": [
       "<IPython.core.display.HTML object>"
      ]
     },
     "metadata": {},
     "output_type": "display_data"
    }
   ],
   "source": [
    "%%HTML\n",
    "<iframe width=\"560\" height=\"700\" src=\"https://www.youtube.com/embed/S_f2qV2_U00?rel=0&amp;controls=0&amp;showinfo=0\" frameborder=\"0\" allowfullscreen></iframe>"
   ]
  },
  {
   "cell_type": "code",
   "execution_count": 24,
   "metadata": {
    "slideshow": {
     "slide_type": "slide"
    }
   },
   "outputs": [
    {
     "data": {
      "text/html": [
       "<iframe width=100% height=\"300\" src=\"https://www.youtube.com/embed/VqhCQZaH4Vs\" frameborder=\"1\" allowfullscreen </iframe>\n",
       "#more info: https://developers.google.com/youtube/player_parameters\n"
      ],
      "text/plain": [
       "<IPython.core.display.HTML object>"
      ]
     },
     "metadata": {},
     "output_type": "display_data"
    }
   ],
   "source": [
    "%%HTML\n",
    "<iframe width=100% height=\"300\" src=\"https://www.youtube.com/embed/VqhCQZaH4Vs\" frameborder=\"1\" allowfullscreen </iframe>\n",
    "#more info: https://developers.google.com/youtube/player_parameters"
   ]
  },
  {
   "cell_type": "code",
   "execution_count": 25,
   "metadata": {
    "scrolled": true
   },
   "outputs": [
    {
     "data": {
      "image/svg+xml": [
       "<svg>\n",
       "    <rect x=\"50\" y=\"10\" height=\"100\" width=\"100\" style=\"stroke:#ff0000; fill: #00ffff\"/>\n",
       "</svg>"
      ],
      "text/plain": [
       "<IPython.core.display.SVG object>"
      ]
     },
     "metadata": {},
     "output_type": "display_data"
    }
   ],
   "source": [
    "%%svg\n",
    "\n",
    "<svg>\n",
    "    <rect x=\"50\" y=\"10\" height=\"100\" width=\"100\" \n",
    "    style=\"stroke:#ff0000; fill: #00ffff\"/>\n",
    "</svg>"
   ]
  },
  {
   "cell_type": "code",
   "execution_count": 26,
   "metadata": {
    "scrolled": true
   },
   "outputs": [
    {
     "data": {
      "image/svg+xml": [
       "<svg>\n",
       "    <circle cx=\"80\" cy=\"80\" r=\"50\" style=\"stroke:#006600; fill:#00cc00\"/>\n",
       "</svg>"
      ],
      "text/plain": [
       "<IPython.core.display.SVG object>"
      ]
     },
     "metadata": {},
     "output_type": "display_data"
    }
   ],
   "source": [
    "%%svg\n",
    "\n",
    "<svg>\n",
    "    <circle cx=\"80\" cy=\"80\" r=\"50\" style=\"stroke:#006600; fill:#00cc00\"/>\n",
    "</svg>"
   ]
  },
  {
   "cell_type": "code",
   "execution_count": 27,
   "metadata": {
    "scrolled": true
   },
   "outputs": [
    {
     "data": {
      "image/svg+xml": [
       "<svg xmlns=\"http://www.w3.org/2000/svg\" width=\"200\" height=\"200\">\n",
       "  <circle cx=\"100\" cy=\"100\" r=\"80\" stroke=\"black\" stroke-width=\"3\" fill=\"lightblue\"/>\n",
       "  <text x=\"100\" y=\"105\" font-size=\"20\" text-anchor=\"middle\" fill=\"black\">SVG</text>\n",
       "</svg>"
      ],
      "text/plain": [
       "<IPython.core.display.SVG object>"
      ]
     },
     "metadata": {},
     "output_type": "display_data"
    }
   ],
   "source": [
    "%%svg\n",
    "<svg width=\"200\" height=\"200\" xmlns=\"http://www.w3.org/2000/svg\">\n",
    "  <circle cx=\"100\" cy=\"100\" r=\"80\" stroke=\"black\" stroke-width=\"3\" fill=\"lightblue\" />\n",
    "  <text x=\"100\" y=\"105\" font-size=\"20\" text-anchor=\"middle\" fill=\"black\">SVG</text>\n",
    "</svg>"
   ]
  },
  {
   "cell_type": "code",
   "execution_count": 28,
   "metadata": {
    "scrolled": true
   },
   "outputs": [
    {
     "data": {
      "image/svg+xml": [
       "<svg xmlns=\"http://www.w3.org/2000/svg\" width=\"500\" height=\"300\">\n",
       "  <!-- Background -->\n",
       "  <rect width=\"100%\" height=\"100%\" fill=\"lightgrey\"/>\n",
       "\n",
       "  <!-- Axes -->\n",
       "  <line x1=\"50\" y1=\"250\" x2=\"450\" y2=\"250\" stroke=\"black\" stroke-width=\"2\"/>\n",
       "  <line x1=\"50\" y1=\"250\" x2=\"50\" y2=\"50\" stroke=\"black\" stroke-width=\"2\"/>\n",
       "\n",
       "  <!-- Bars -->\n",
       "  <rect x=\"80\" y=\"150\" width=\"50\" height=\"100\" fill=\"blue\" onmouseover=\"showTooltip(evt, 'Value: 50')\" onmouseout=\"hideTooltip()\"/>\n",
       "  <rect x=\"180\" y=\"100\" width=\"50\" height=\"150\" fill=\"green\" onmouseover=\"showTooltip(evt, 'Value: 75')\" onmouseout=\"hideTooltip()\"/>\n",
       "  <rect x=\"280\" y=\"200\" width=\"50\" height=\"50\" fill=\"red\" onmouseover=\"showTooltip(evt, 'Value: 25')\" onmouseout=\"hideTooltip()\"/>\n",
       "\n",
       "  <!-- Labels -->\n",
       "  <text x=\"105\" y=\"270\" font-size=\"14\" text-anchor=\"middle\">Category A</text>\n",
       "  <text x=\"205\" y=\"270\" font-size=\"14\" text-anchor=\"middle\">Category B</text>\n",
       "  <text x=\"305\" y=\"270\" font-size=\"14\" text-anchor=\"middle\">Category C</text>\n",
       "\n",
       "  <!-- Annotations -->\n",
       "  <text x=\"180\" y=\"90\" font-size=\"12\" fill=\"black\">Highest Value</text>\n",
       "  <line x1=\"205\" y1=\"100\" x2=\"205\" y2=\"80\" stroke=\"black\" stroke-width=\"1\"/>\n",
       "\n",
       "  <!-- Tooltip -->\n",
       "  <text id=\"tooltip\" x=\"0\" y=\"0\" visibility=\"hidden\" font-size=\"12\" fill=\"white\" background=\"black\">Tooltip</text>\n",
       "\n",
       "  <!-- Script for Interactivity -->\n",
       "  <script type=\"text/ecmascript\">\n",
       "    function showTooltip(evt, text) {\n",
       "      const tooltip = document.getElementById('tooltip');\n",
       "      tooltip.setAttribute('x', evt.clientX + 10);\n",
       "      tooltip.setAttribute('y', evt.clientY - 10);\n",
       "      tooltip.setAttribute('visibility', 'visible');\n",
       "      tooltip.textContent = text;\n",
       "    }\n",
       "\n",
       "    function hideTooltip() {\n",
       "      const tooltip = document.getElementById('tooltip');\n",
       "      tooltip.setAttribute('visibility', 'hidden');\n",
       "    }\n",
       "  </script>\n",
       "</svg>"
      ],
      "text/plain": [
       "<IPython.core.display.SVG object>"
      ]
     },
     "metadata": {},
     "output_type": "display_data"
    }
   ],
   "source": [
    "%%svg\n",
    "<svg xmlns=\"http://www.w3.org/2000/svg\" width=\"500\" height=\"300\">\n",
    "  <!-- Background -->\n",
    "  <rect width=\"100%\" height=\"100%\" fill=\"lightgrey\" />\n",
    "\n",
    "  <!-- Axes -->\n",
    "  <line x1=\"50\" y1=\"250\" x2=\"450\" y2=\"250\" stroke=\"black\" stroke-width=\"2\" />\n",
    "  <line x1=\"50\" y1=\"250\" x2=\"50\" y2=\"50\" stroke=\"black\" stroke-width=\"2\" />\n",
    "\n",
    "  <!-- Bars -->\n",
    "  <rect x=\"80\" y=\"150\" width=\"50\" height=\"100\" fill=\"blue\" onmouseover=\"showTooltip(evt, 'Value: 50')\" onmouseout=\"hideTooltip()\" />\n",
    "  <rect x=\"180\" y=\"100\" width=\"50\" height=\"150\" fill=\"green\" onmouseover=\"showTooltip(evt, 'Value: 75')\" onmouseout=\"hideTooltip()\" />\n",
    "  <rect x=\"280\" y=\"200\" width=\"50\" height=\"50\" fill=\"red\" onmouseover=\"showTooltip(evt, 'Value: 25')\" onmouseout=\"hideTooltip()\" />\n",
    "\n",
    "  <!-- Labels -->\n",
    "  <text x=\"105\" y=\"270\" font-size=\"14\" text-anchor=\"middle\">Category A</text>\n",
    "  <text x=\"205\" y=\"270\" font-size=\"14\" text-anchor=\"middle\">Category B</text>\n",
    "  <text x=\"305\" y=\"270\" font-size=\"14\" text-anchor=\"middle\">Category C</text>\n",
    "\n",
    "  <!-- Annotations -->\n",
    "  <text x=\"180\" y=\"90\" font-size=\"12\" fill=\"black\">Highest Value</text>\n",
    "  <line x1=\"205\" y1=\"100\" x2=\"205\" y2=\"80\" stroke=\"black\" stroke-width=\"1\" />\n",
    "\n",
    "  <!-- Tooltip -->\n",
    "  <text id=\"tooltip\" x=\"0\" y=\"0\" visibility=\"hidden\" font-size=\"12\" fill=\"white\" background=\"black\">Tooltip</text>\n",
    "\n",
    "  <!-- Script for Interactivity -->\n",
    "  <script type=\"text/ecmascript\">\n",
    "    function showTooltip(evt, text) {\n",
    "      const tooltip = document.getElementById('tooltip');\n",
    "      tooltip.setAttribute('x', evt.clientX + 10);\n",
    "      tooltip.setAttribute('y', evt.clientY - 10);\n",
    "      tooltip.setAttribute('visibility', 'visible');\n",
    "      tooltip.textContent = text;\n",
    "    }\n",
    "\n",
    "    function hideTooltip() {\n",
    "      const tooltip = document.getElementById('tooltip');\n",
    "      tooltip.setAttribute('visibility', 'hidden');\n",
    "    }\n",
    "  </script>\n",
    "</svg>"
   ]
  },
  {
   "cell_type": "markdown",
   "metadata": {},
   "source": [
    "### Working with Files\n",
    "- Write to a file\n",
    "- Display conent from the file\n",
    "- Run a Python file\n",
    "- Create a file\n",
    "--- https://github.com/jupyter/notebook/issues/2216\n"
   ]
  },
  {
   "cell_type": "code",
   "execution_count": 32,
   "metadata": {
    "scrolled": true
   },
   "outputs": [
    {
     "name": "stdout",
     "output_type": "stream",
     "text": [
      "Overwriting C://temp//test03.py\n"
     ]
    }
   ],
   "source": [
    "%%writefile C://temp//test03.py\n",
    "decesion_var= 4\n",
    "if decesion_var==4:\n",
    "    print(\"i won\")\n",
    "else:\n",
    "    print(\"I loose\")\n"
   ]
  },
  {
   "cell_type": "code",
   "execution_count": 30,
   "metadata": {
    "slideshow": {
     "slide_type": "slide"
    }
   },
   "outputs": [
    {
     "name": "stdout",
     "output_type": "stream",
     "text": [
      "Enter a numberasd\n"
     ]
    },
    {
     "ename": "ValueError",
     "evalue": "invalid literal for int() with base 10: 'asd'",
     "output_type": "error",
     "traceback": [
      "\u001b[1;31m---------------------------------------------------------------------------\u001b[0m",
      "\u001b[1;31mValueError\u001b[0m                                Traceback (most recent call last)",
      "Cell \u001b[1;32mIn[30], line 1\u001b[0m\n\u001b[1;32m----> 1\u001b[0m var_1\u001b[38;5;241m=\u001b[39m \u001b[38;5;28;43mint\u001b[39;49m\u001b[43m(\u001b[49m\u001b[38;5;28;43minput\u001b[39;49m\u001b[43m(\u001b[49m\u001b[38;5;124;43m\"\u001b[39;49m\u001b[38;5;124;43mEnter a number\u001b[39;49m\u001b[38;5;124;43m\"\u001b[39;49m\u001b[43m)\u001b[49m\u001b[43m)\u001b[49m\n\u001b[0;32m      2\u001b[0m \u001b[38;5;28mprint\u001b[39m(var_1)\n",
      "\u001b[1;31mValueError\u001b[0m: invalid literal for int() with base 10: 'asd'"
     ]
    }
   ],
   "source": [
    "var_1= int(input(\"Enter a number\"))\n",
    "print(var_1)"
   ]
  },
  {
   "cell_type": "code",
   "execution_count": 34,
   "metadata": {
    "slideshow": {
     "slide_type": "slide"
    }
   },
   "outputs": [
    {
     "name": "stdout",
     "output_type": "stream",
     "text": [
      "i won\n"
     ]
    }
   ],
   "source": [
    "!python C:\\temp/test03.py"
   ]
  },
  {
   "cell_type": "code",
   "execution_count": 37,
   "metadata": {
    "scrolled": true
   },
   "outputs": [
    {
     "name": "stdout",
     "output_type": "stream",
     "text": [
      "Overwriting C://temp//test02.py\n"
     ]
    }
   ],
   "source": [
    "%%file C://temp//test02.py\n",
    "a=1+1\n",
    "print(\"This is a cell Goof command\")"
   ]
  },
  {
   "cell_type": "code",
   "execution_count": 38,
   "metadata": {},
   "outputs": [
    {
     "name": "stdout",
     "output_type": "stream",
     "text": [
      "This is a cell Goof command\n"
     ]
    }
   ],
   "source": [
    "!python C://temp//test02.py"
   ]
  },
  {
   "cell_type": "code",
   "execution_count": 39,
   "metadata": {},
   "outputs": [],
   "source": [
    "%pycat C:\\temp\\test02.py"
   ]
  },
  {
   "cell_type": "code",
   "execution_count": 40,
   "metadata": {},
   "outputs": [
    {
     "data": {
      "text/plain": [
       "{'ALLUSERSPROFILE': 'C:\\\\ProgramData',\n",
       " 'APPDATA': 'C:\\\\Users\\\\haroo\\\\AppData\\\\Roaming',\n",
       " 'COMMONPROGRAMFILES': 'C:\\\\Program Files\\\\Common Files',\n",
       " 'COMMONPROGRAMFILES(X86)': 'C:\\\\Program Files (x86)\\\\Common Files',\n",
       " 'COMMONPROGRAMW6432': 'C:\\\\Program Files\\\\Common Files',\n",
       " 'COMPUTERNAME': 'LAPTOP-JMF87J65',\n",
       " 'COMSPEC': 'C:\\\\WINDOWS\\\\system32\\\\cmd.exe',\n",
       " 'CONFIGSETROOT': 'C:\\\\WINDOWS\\\\ConfigSetRoot',\n",
       " 'DRIVERDATA': 'C:\\\\Windows\\\\System32\\\\Drivers\\\\DriverData',\n",
       " 'FPS_BROWSER_APP_PROFILE_STRING': 'Internet Explorer',\n",
       " 'FPS_BROWSER_USER_PROFILE_STRING': 'Default',\n",
       " 'HOMEDRIVE': 'C:',\n",
       " 'HOMEPATH': '\\\\Users\\\\haroo',\n",
       " 'LOCALAPPDATA': 'C:\\\\Users\\\\haroo\\\\AppData\\\\Local',\n",
       " 'LOGONSERVER': '\\\\\\\\LAPTOP-JMF87J65',\n",
       " 'NUMBER_OF_PROCESSORS': '8',\n",
       " 'ONEDRIVE': 'C:\\\\Users\\\\haroo\\\\OneDrive - Marshall University',\n",
       " 'ONEDRIVECOMMERCIAL': 'C:\\\\Users\\\\haroo\\\\OneDrive - Marshall University',\n",
       " 'OS': 'Windows_NT',\n",
       " 'PATH': 'C:\\\\Program Files (x86)\\\\Common Files\\\\Oracle\\\\Java\\\\javapath;C:\\\\Program Files (x86)\\\\Intel\\\\iCLS Client\\\\;C:\\\\Program Files\\\\Intel\\\\iCLS Client\\\\;C:\\\\Windows\\\\system32;C:\\\\Windows;C:\\\\Windows\\\\System32\\\\Wbem;C:\\\\Windows\\\\System32\\\\WindowsPowerShell\\\\v1.0\\\\;C:\\\\Program Files (x86)\\\\Intel\\\\Intel(R) Management Engine Components\\\\DAL;C:\\\\Program Files\\\\Intel\\\\Intel(R) Management Engine Components\\\\DAL;C:\\\\Program Files (x86)\\\\Intel\\\\Intel(R) Management Engine Components\\\\IPT;C:\\\\Program Files\\\\Intel\\\\Intel(R) Management Engine Components\\\\IPT;C:\\\\Program Files (x86)\\\\NVIDIA Corporation\\\\PhysX\\\\Common;C:\\\\Program Files\\\\Intel\\\\WiFi\\\\bin\\\\;C:\\\\Program Files\\\\Common Files\\\\Intel\\\\WirelessCommon\\\\;C:\\\\WINDOWS\\\\system32;C:\\\\WINDOWS;C:\\\\WINDOWS\\\\System32\\\\Wbem;C:\\\\WINDOWS\\\\System32\\\\WindowsPowerShell\\\\v1.0\\\\;C:\\\\WINDOWS\\\\System32\\\\OpenSSH\\\\;C:\\\\Program Files\\\\NVIDIA Corporation\\\\NVIDIA NvDLISR;C:\\\\Program Files\\\\MySQL\\\\MySQL Shell 8.0\\\\bin\\\\;C:\\\\Users\\\\haroo\\\\AppData\\\\Local\\\\Programs\\\\Python\\\\Python310\\\\Scripts;C:\\\\Users\\\\haroo\\\\AppData\\\\Local\\\\Programs\\\\Python\\\\Python310\\\\;C:\\\\Users\\\\haroo\\\\AppData\\\\Local\\\\Microsoft\\\\WindowsApps;C:\\\\Users\\\\haroo\\\\AppData\\\\Local\\\\Programs\\\\Python\\\\Python310\\\\Lib;',\n",
       " 'PATHEXT': '.COM;.EXE;.BAT;.CMD;.VBS;.VBE;.JS;.JSE;.WSF;.WSH;.MSC',\n",
       " 'PROCESSOR_ARCHITECTURE': 'AMD64',\n",
       " 'PROCESSOR_IDENTIFIER': 'Intel64 Family 6 Model 158 Stepping 9, GenuineIntel',\n",
       " 'PROCESSOR_LEVEL': '6',\n",
       " 'PROCESSOR_REVISION': '9e09',\n",
       " 'PROGRAMDATA': 'C:\\\\ProgramData',\n",
       " 'PROGRAMFILES': 'C:\\\\Program Files',\n",
       " 'PROGRAMFILES(X86)': 'C:\\\\Program Files (x86)',\n",
       " 'PROGRAMW6432': 'C:\\\\Program Files',\n",
       " 'PROMPT': '$P$G',\n",
       " 'PSMODULEPATH': 'C:\\\\Program Files\\\\WindowsPowerShell\\\\Modules;C:\\\\WINDOWS\\\\system32\\\\WindowsPowerShell\\\\v1.0\\\\Modules',\n",
       " 'PUBLIC': 'C:\\\\Users\\\\Public',\n",
       " 'SESSIONNAME': 'Console',\n",
       " 'SYSTEMDRIVE': 'C:',\n",
       " 'SYSTEMROOT': 'C:\\\\WINDOWS',\n",
       " 'TEMP': 'C:\\\\Users\\\\haroo\\\\AppData\\\\Local\\\\Temp',\n",
       " 'TMP': 'C:\\\\Users\\\\haroo\\\\AppData\\\\Local\\\\Temp',\n",
       " 'USERDOMAIN': 'LAPTOP-JMF87J65',\n",
       " 'USERDOMAIN_ROAMINGPROFILE': 'LAPTOP-JMF87J65',\n",
       " 'USERNAME': 'malikh',\n",
       " 'USERPROFILE': 'C:\\\\Users\\\\haroo',\n",
       " 'VS160COMCOMNTOOLS': 'C:\\\\Program Files (x86)\\\\Microsoft Visual Studio\\\\2019\\\\Community\\\\Common7\\\\Tools\\\\',\n",
       " 'WINDIR': 'C:\\\\WINDOWS',\n",
       " '__PSLOCKDOWNPOLICY': '0',\n",
       " 'JPY_INTERRUPT_EVENT': '3564',\n",
       " 'IPY_INTERRUPT_EVENT': '3564',\n",
       " 'JPY_PARENT_PID': '3536',\n",
       " 'TERM': 'xterm-color',\n",
       " 'CLICOLOR': '1',\n",
       " 'FORCE_COLOR': '1',\n",
       " 'CLICOLOR_FORCE': '1',\n",
       " 'PAGER': 'cat',\n",
       " 'GIT_PAGER': 'cat',\n",
       " 'MPLBACKEND': 'module://matplotlib_inline.backend_inline'}"
      ]
     },
     "execution_count": 40,
     "metadata": {},
     "output_type": "execute_result"
    }
   ],
   "source": [
    "%env "
   ]
  },
  {
   "cell_type": "code",
   "execution_count": 41,
   "metadata": {},
   "outputs": [
    {
     "data": {
      "application/javascript": "for (var i=0; i<3; i++)\nalert(i)\n",
      "text/plain": [
       "<IPython.core.display.Javascript object>"
      ]
     },
     "metadata": {},
     "output_type": "display_data"
    }
   ],
   "source": [
    "%%js\n",
    "for (var i=0; i<3; i++)\n",
    "alert(i)"
   ]
  },
  {
   "cell_type": "code",
   "execution_count": 42,
   "metadata": {},
   "outputs": [
    {
     "data": {
      "text/plain": [
       "'C:\\\\Program Files (x86)\\\\Common Files\\\\Oracle\\\\Java\\\\javapath;C:\\\\Program Files (x86)\\\\Intel\\\\iCLS Client\\\\;C:\\\\Program Files\\\\Intel\\\\iCLS Client\\\\;C:\\\\Windows\\\\system32;C:\\\\Windows;C:\\\\Windows\\\\System32\\\\Wbem;C:\\\\Windows\\\\System32\\\\WindowsPowerShell\\\\v1.0\\\\;C:\\\\Program Files (x86)\\\\Intel\\\\Intel(R) Management Engine Components\\\\DAL;C:\\\\Program Files\\\\Intel\\\\Intel(R) Management Engine Components\\\\DAL;C:\\\\Program Files (x86)\\\\Intel\\\\Intel(R) Management Engine Components\\\\IPT;C:\\\\Program Files\\\\Intel\\\\Intel(R) Management Engine Components\\\\IPT;C:\\\\Program Files (x86)\\\\NVIDIA Corporation\\\\PhysX\\\\Common;C:\\\\Program Files\\\\Intel\\\\WiFi\\\\bin\\\\;C:\\\\Program Files\\\\Common Files\\\\Intel\\\\WirelessCommon\\\\;C:\\\\WINDOWS\\\\system32;C:\\\\WINDOWS;C:\\\\WINDOWS\\\\System32\\\\Wbem;C:\\\\WINDOWS\\\\System32\\\\WindowsPowerShell\\\\v1.0\\\\;C:\\\\WINDOWS\\\\System32\\\\OpenSSH\\\\;C:\\\\Program Files\\\\NVIDIA Corporation\\\\NVIDIA NvDLISR;C:\\\\Program Files\\\\MySQL\\\\MySQL Shell 8.0\\\\bin\\\\;C:\\\\Users\\\\haroo\\\\AppData\\\\Local\\\\Programs\\\\Python\\\\Python310\\\\Scripts;C:\\\\Users\\\\haroo\\\\AppData\\\\Local\\\\Programs\\\\Python\\\\Python310\\\\;C:\\\\Users\\\\haroo\\\\AppData\\\\Local\\\\Microsoft\\\\WindowsApps;C:\\\\Users\\\\haroo\\\\AppData\\\\Local\\\\Programs\\\\Python\\\\Python310\\\\Lib;'"
      ]
     },
     "execution_count": 42,
     "metadata": {},
     "output_type": "execute_result"
    }
   ],
   "source": [
    "%env PATH"
   ]
  },
  {
   "cell_type": "code",
   "execution_count": 43,
   "metadata": {},
   "outputs": [
    {
     "name": "stdout",
     "output_type": "stream",
     "text": [
      "This is a cell Goof command\n"
     ]
    }
   ],
   "source": [
    "%run C:\\temp\\test02.py"
   ]
  },
  {
   "cell_type": "code",
   "execution_count": null,
   "metadata": {},
   "outputs": [],
   "source": [
    "\n",
    "%%timeit\n",
    "import time\n",
    "for i in range(10):\n",
    "    time.sleep(0.05)\n",
    "    a=i\n",
    "    # How would you time the execution of a specific line of code using a magic command?\n",
    "#  %%time at the beginning of the cell or %time before the line of code to be timed."
   ]
  },
  {
   "cell_type": "code",
   "execution_count": 45,
   "metadata": {},
   "outputs": [],
   "source": [
    "%matplotlib inline\n",
    "import numpy as np\n",
    "import matplotlib.pyplot as plt"
   ]
  },
  {
   "cell_type": "code",
   "execution_count": 46,
   "metadata": {},
   "outputs": [
    {
     "data": {
      "text/plain": [
       "<matplotlib.collections.PathCollection at 0x20874a15390>"
      ]
     },
     "execution_count": 46,
     "metadata": {},
     "output_type": "execute_result"
    },
    {
     "data": {
      "image/png": "[encoded data removed]",
      "text/plain": [
       "<Figure size 640x480 with 1 Axes>"
      ]
     },
     "metadata": {},
     "output_type": "display_data"
    }
   ],
   "source": [
    "X = np.array([0,1,2,3,4])\n",
    "Y = np.array([3,5,4,6,7])\n",
    "plt.scatter(X, Y)"
   ]
  },
  {
   "cell_type": "code",
   "execution_count": 47,
   "metadata": {},
   "outputs": [],
   "source": [
    "%notebook  c:\\\\temp\\\\my_script.py"
   ]
  }
 ],
 "metadata": {
  "celltoolbar": "Slideshow",
  "kernelspec": {
   "display_name": "Python 3 (ipykernel)",
   "language": "python",
   "name": "python3"
  },
  "language_info": {
   "codemirror_mode": {
    "name": "ipython",
    "version": 3
   },
   "file_extension": ".py",
   "mimetype": "text/x-python",
   "name": "python",
   "nbconvert_exporter": "python",
   "pygments_lexer": "ipython3",
   "version": "3.10.6"
  }
 },
 "nbformat": 4,
 "nbformat_minor": 4
}
